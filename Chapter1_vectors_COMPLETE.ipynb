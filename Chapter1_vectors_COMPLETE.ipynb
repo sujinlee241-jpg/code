{
  "cells": [
    {
      "cell_type": "markdown",
      "metadata": {
        "id": "view-in-github",
        "colab_type": "text"
      },
      "source": [
        "<a href=\"https://colab.research.google.com/github/sujinlee241-jpg/code/blob/main/Chapter1_vectors_COMPLETE.ipynb\" target=\"_parent\"><img src=\"https://colab.research.google.com/assets/colab-badge.svg\" alt=\"Open In Colab\"/></a>"
      ]
    },
    {
      "cell_type": "markdown",
      "id": "59fe0591",
      "metadata": {
        "id": "59fe0591"
      },
      "source": [
        "\n",
        "# 📗 **Chapter 1: 벡터와 벡터의 기본 연산**\n",
        "\n",
        "본 노트는 다음 흐름으로 구성됩니다.  \n",
        "1. 벡터 생성과 방향(행/열) · 전치  \n",
        "2. 벡터 덧셈/뺄셈 · 브로드캐스팅 주의  \n",
        "3. 스칼라–벡터 곱/덧셈 · 기하학적 해석 · 평균  \n",
        "4. 크기(노름)와 단위벡터  \n",
        "5. 내적: 계산 · 성질 · 기하학적 의미  \n",
        "6. 그 외 곱: 아다마르곱(원소곱) · 외적(outer product) 소개  \n",
        "7. 직교벡터 분해 & 직교 투영 (평행/수직 성분)  \n",
        "8. 연습문제(자동 채점 포함) & 온전성 검사(Sanity Check)\n"
      ]
    },
    {
      "cell_type": "code",
      "execution_count": null,
      "id": "8619ed14",
      "metadata": {
        "id": "8619ed14"
      },
      "outputs": [],
      "source": [
        "\n",
        "# 환경 설정\n",
        "import numpy as np, math\n",
        "import matplotlib.pyplot as plt\n",
        "np.set_printoptions(suppress=True, precision=4)\n",
        "print(\"NumPy:\", np.__version__)\n"
      ]
    },
    {
      "cell_type": "markdown",
      "id": "98e489aa",
      "metadata": {
        "id": "98e489aa"
      },
      "source": [
        "\n",
        "## **1.1 벡터 생성과 방향(orientation)**\n",
        "\n",
        "- 차원: 원소 수 `n`\n",
        "- 방향: **행(row)** `(1, n)` vs **열(column)** `(n, 1)`  \n",
        "- 1차원 배열 `(n,)`은 '방향 없음' — 행/열을 명확히 쓰려면 2차원으로.\n",
        "\n",
        "<font color=\"orange\">[식 1-1] 열벡터와 행벡터의 예\n",
        "\n",
        "$$x=\n",
        "\\begin{bmatrix}\n",
        "1 \\\\\n",
        "4 \\\\             \n",
        "5 \\\\\n",
        "6\n",
        "\\end{bmatrix},  \n",
        "y=\n",
        "\\begin{bmatrix}\n",
        ".3 \\\\\n",
        "-7\n",
        "\\end{bmatrix},\n",
        "z=\n",
        "\\begin{bmatrix}\n",
        "1 & 4 & 5 & 6\n",
        "\\end{bmatrix}\n",
        "$$\n",
        "\n",
        "\n",
        "벡터의 차원은 벡터가 가진 원소 수입니다. 하지만 파이썬에서 벡터 또는 행렬의 차원은 수 객체를 출력하는 데 사용되는 기하학적 차원의 수입니다.\n",
        "\n",
        "예) 모든 벡터는 벡터가 가진 원소의 수(수학적 차원)에 상관없이 NumPy에서 **2차원 배열**로 간주됩니다. 특정 방향이 없는 수 나열은 원소 수에 상관없이 파이썬에서 **1차원 배열**입니다. 수학적 차원인 벡터의 원소 수는 파이썬에서 벡터의 **길이(length)** 또는 **모양(shape)**이라고 합니다.\n"
      ]
    },
    {
      "cell_type": "markdown",
      "source": [
        "파이썬에서 벡터는 여러 데이터 타입으로 나타낼 수 있습니다. 리스트 타입은 벡터를 표현하는 가장 간단한 방법이지만 선형대수학 응용 분야에서는 잘 사용하지 않습니다. 벡터를 NumPy 배열로 생성하는 것이 가장 좋습니다. 다음 코드는 벡터를 생성하는 4가지 방법입니다."
      ],
      "metadata": {
        "id": "U5yibRLdOuhW"
      },
      "id": "U5yibRLdOuhW"
    },
    {
      "cell_type": "code",
      "execution_count": null,
      "id": "136ceffd",
      "metadata": {
        "id": "136ceffd"
      },
      "outputs": [],
      "source": [
        "\n",
        "asList = [1,2,3]\n",
        "asArray = np.array([1,2,3])     # (3,) 1차원 배열\n",
        "rowVec  = np.array([[1,2,3]])   # (1,3) 행\n",
        "colVec  = np.array([[1],[2],[3]]) # (3,1) 열\n",
        "\n",
        "print(f'asList :{np.shape(asList)}')\n",
        "print(f'asArray: {asArray.shape}')\n",
        "print(f'rowVec:{rowVec.shape}')\n",
        "print(f'colVec:{colVec.shape}')\n"
      ]
    },
    {
      "cell_type": "markdown",
      "source": [
        "1차원 배열인 `asArray`는 모양이 (3)이지만 방향이 부여된 벡터는 2차원 배열이며 방향에 따라 모양이 (1,3) 또는 (3,1)입니다. 차수는 항상 (행, 열)로 표현합니다."
      ],
      "metadata": {
        "id": "MJiYJ4z5QyH9"
      },
      "id": "MJiYJ4z5QyH9"
    },
    {
      "cell_type": "markdown",
      "id": "8517bcdb",
      "metadata": {
        "id": "8517bcdb"
      },
      "source": [
        "\n",
        "### 전치(Transpose)\n",
        "선형대수학에서 벡터에 아무런 표시가 없다면 열 방향이라고 가정합니다. 행벡터는 $w^\\top$ 로 씁니다.\n",
        "\n"
      ]
    },
    {
      "cell_type": "code",
      "execution_count": null,
      "id": "4387c1a7",
      "metadata": {
        "id": "4387c1a7"
      },
      "outputs": [],
      "source": [
        "\n",
        "col = np.array([[4],[5],[6]])   # (3,1)\n",
        "print(\"col.T.shape:\", col.T.shape)  # (1,3)\n"
      ]
    },
    {
      "cell_type": "markdown",
      "source": [
        "### 1.1.1 벡터의 기하학적 해석\n",
        "순서대로 나열된 수 목록은 벡터의 대수학적 해석입니다. 기하학적으로 해석하면 벡터는 특정 길이(또는 크기)와 방향(또는 각도)을 가진 직선입니다. 벡터의 두 점은 머리(시작하는 곳)과 꼬리(끝나는 곳)을 명확히 구분하기 위해 화살표가 달려 있습니다.\n",
        "\n",
        "일반적으로는 벡터와 좌표는 다른 개념입니다. 하지만 벡터가 원점에서 시작될 때는 벡터를 기하학적 좌표가 인코딩된 형태로 볼 수도 있습니다. 이를 **기준 위치(standard position)**라고 합니다.\n",
        "\n",
        "  * 한국의 수학 '기하' 교과에서는 이를 **위치 벡터**라고 부릅니다."
      ],
      "metadata": {
        "id": "tOvwSl3YTC2W"
      },
      "id": "tOvwSl3YTC2W"
    },
    {
      "cell_type": "markdown",
      "source": [
        "<font color=\"green\">[그림 1-1] </font> 모든 화살표는 동일한 벡터입니다. 기준 위치의 벡터는 꼬리가 원점에 있고 머리는 기하학적 좌표를 가리킵니다."
      ],
      "metadata": {
        "id": "4cb4hGy0sQ-M"
      },
      "id": "4cb4hGy0sQ-M"
    },
    {
      "cell_type": "code",
      "source": [
        "# create a vector\n",
        "v = np.array([-1,2])\n",
        "\n",
        "# plot that vector (and a dot for the tail)\n",
        "plt.arrow(0,0,v[0],v[1],head_width=.1,width=.01)\n",
        "plt.plot(0,0,'ko',markerfacecolor='k',markersize=2)\n",
        "plt.arrow(-1,-1,v[0],v[1],head_width=.1,width=.01)\n",
        "plt.plot(-1,-1,'ko',markerfacecolor='k',markersize=2)\n",
        "plt.arrow(1.5,-2,v[0],v[1],head_width=.1,width=.01)\n",
        "plt.plot(1.5,-2,'ko',markerfacecolor='k',markersize=2)\n",
        "\n",
        "\n",
        "# add axis lines\n",
        "plt.plot([-3,3],[0,0],'--',color=[.8,.8,.8],zorder=-1)\n",
        "plt.plot([0,0],[-3,3],'--',color=[.8,.8,.8],zorder=-1)\n",
        "\n",
        "# make the plot look nicer\n",
        "plt.axis('square')\n",
        "plt.axis([-3,3,-3,3])\n",
        "plt.xlabel('v_0')\n",
        "plt.ylabel('v_1')\n",
        "plt.title('Vector v at different positions')\n",
        "plt.show()"
      ],
      "metadata": {
        "id": "pAwdba7cUDQR"
      },
      "id": "pAwdba7cUDQR",
      "execution_count": null,
      "outputs": []
    },
    {
      "cell_type": "markdown",
      "id": "fd88af4a",
      "metadata": {
        "id": "fd88af4a"
      },
      "source": [
        "\n",
        "## **1.2 벡터 연산**\n",
        "\n",
        "### 1.2.1 두 벡터의 덧셈과 뺄셈\n",
        "- 같은 차원에서 원소별 연산(덧셈, 뺄셈)을 합니다.  \n",
        "\n",
        "\n",
        "<font color=\"orange\">[식 1-2] 두 벡터의 덧셈\n",
        "\n",
        "$$\n",
        "\\begin{bmatrix}\n",
        "4 \\\\\n",
        "5 \\\\             \n",
        "6\n",
        "\\end{bmatrix}+\n",
        "\\begin{bmatrix}\n",
        "10 \\\\\n",
        "20 \\\\\n",
        "30\n",
        "\\end{bmatrix}\n",
        "=\n",
        "\\begin{bmatrix}\n",
        "14 \\\\\n",
        "25 \\\\\n",
        "36\n",
        "\\end{bmatrix}\n",
        "$$\n",
        "\n",
        "<font color=\"orange\">[식 1-3] 두 벡터의 뺄셈\n",
        "\n",
        "$$\n",
        "\\begin{bmatrix}\n",
        "4 \\\\\n",
        "5 \\\\             \n",
        "6\n",
        "\\end{bmatrix}-\n",
        "\\begin{bmatrix}\n",
        "10 \\\\\n",
        "20 \\\\\n",
        "30\n",
        "\\end{bmatrix}\n",
        "=\n",
        "\\begin{bmatrix}\n",
        "-6 \\\\\n",
        "-15 \\\\\n",
        "-24\n",
        "\\end{bmatrix}\n",
        "$$\n"
      ]
    },
    {
      "cell_type": "code",
      "source": [
        "# 벡터의 덧셈\n",
        "v = np.array([4,5,6])\n",
        "w = np.array([10,20,30])\n",
        "u = np.array([0,3,6,9])\n",
        "print(\"v+w =\", v+w)\n",
        "print(\"u+w =\", u+w)"
      ],
      "metadata": {
        "id": "R2Gb1Z5MdBzO"
      },
      "id": "R2Gb1Z5MdBzO",
      "execution_count": null,
      "outputs": []
    },
    {
      "cell_type": "markdown",
      "source": [
        "<font color=\"orange\">[식 1-4] 열벡터에 행벡터를 더할 수 있나요?\n",
        "\n",
        "$$\n",
        "\\begin{bmatrix}\n",
        "4 \\\\\n",
        "5 \\\\             \n",
        "6\n",
        "\\end{bmatrix}+\n",
        "\\begin{bmatrix}\n",
        "10 & 20 & 30\n",
        "\\end{bmatrix}\n",
        "=\n",
        "?\n",
        "$$\n",
        "\n",
        "- 방향(행/열) 다르면 **브로드캐스팅**이 발생할 수 있음 → 의도 확인!"
      ],
      "metadata": {
        "id": "KrO18kvcqhEn"
      },
      "id": "KrO18kvcqhEn"
    },
    {
      "cell_type": "code",
      "execution_count": null,
      "id": "52d56c13",
      "metadata": {
        "id": "52d56c13"
      },
      "outputs": [],
      "source": [
        "# 브로드캐스팅 예: (1,3) + (3,1) -> (3,3)\n",
        "v = np.array([4,5,6])\n",
        "w = np.array([10,20,30])\n",
        "v_row = v.reshape(1,-1)\n",
        "w_col = w.T.reshape(-1,1)\n",
        "bc = v_row + w_col\n",
        "print(\"broadcasted shape:\", bc.shape)\n",
        "bc"
      ]
    },
    {
      "cell_type": "markdown",
      "source": [
        "❗파이썬에는 **브로드캐스팅(broadcasting)**이라는 연산이 있습니다. 위의 예는 방향이 정말 중요하다는 것을 보여 줍니다. 두 벡터의 차원과 방향이 같을 때만 더하거나 뺄 수 있습니다."
      ],
      "metadata": {
        "id": "S1NgpTtzelS0"
      },
      "id": "S1NgpTtzelS0"
    },
    {
      "cell_type": "markdown",
      "source": [
        "### 1.2.2. 벡터의 덧셈과 뺄셈의 기하학적 해석\n",
        "두 벡터를 기하학적으로 더할 때 한 벡터의 꼬리와 다른 벡터의 머리를 연결합니다. 더한 결과 벡터는 첫 번째 벡터의 꼬리와 두 번째 벡터의 머리를 이은 선입니다.\n",
        "\n",
        "기하학적으로 두 벡터를 빼는 것은 두 벡터의 꼬리들을 같은 좌표에 두고, 뺀 결과의 벡터는 두 번째 벡터의 머리에서 첫 번째 벡터의 머리로 가는 선입니다.\n",
        "\n",
        "벡터 뺄셈은 기하학적으로 매우 중요한 개념입니다. 직교벡터 분해의 기초이며 이는 곧 선형 최소제곱법의 기초가 되고 선형 최소제곱법은 과학과 공학에서 선형대수학의 가장 중요한 응용입니다."
      ],
      "metadata": {
        "id": "aE_Cf-oGfkAO"
      },
      "id": "aE_Cf-oGfkAO"
    },
    {
      "cell_type": "markdown",
      "source": [
        "<font color=\"green\">[그림 1-2] </font> 두 벡터의 덧셈과 뺄셈"
      ],
      "metadata": {
        "id": "d1PapM45twSa"
      },
      "id": "d1PapM45twSa"
    },
    {
      "cell_type": "code",
      "source": [
        "# The vectors\n",
        "v = np.array([1,2])\n",
        "w = np.array([4,-6])\n",
        "vPlusW = v+w\n",
        "\n",
        "\n",
        "# now plot all three vectors\n",
        "plt.figure(figsize=(6,6))\n",
        "\n",
        "a1 = plt.arrow(0,0,v[0],v[1],head_width=.3,width=.1,color='k',length_includes_head=True)\n",
        "a2 = plt.arrow(v[0],v[1],w[0],w[1],head_width=.3,width=.1,color=[.5,.5,.5],length_includes_head=True)\n",
        "a3 = plt.arrow(0,0,vPlusW[0],vPlusW[1],head_width=.3,width=.1,color=[.8,.8,.8],length_includes_head=True)\n",
        "\n",
        "\n",
        "# make the plot look a bit nicer\n",
        "plt.grid(linestyle='--',linewidth=.5)\n",
        "plt.axis('square')\n",
        "plt.axis([-6,6,-6,6])\n",
        "plt.legend([a1,a2,a3],['v','w','v+w'])\n",
        "plt.title('Vectors v, w, and v+w')\n",
        "plt.savefig('Figure_01_02a.png',dpi=300) # write out the fig to a file\n",
        "plt.show()"
      ],
      "metadata": {
        "id": "uJiCt7RYgMC3"
      },
      "id": "uJiCt7RYgMC3",
      "execution_count": null,
      "outputs": []
    },
    {
      "cell_type": "code",
      "source": [
        "# vector difference\n",
        "vMinusW = v-w\n",
        "\n",
        "\n",
        "# now plot all three vectors\n",
        "plt.figure(figsize=(6,6))\n",
        "\n",
        "a1 = plt.arrow(0,0,v[0],v[1],head_width=.3,width=.1,color='k',length_includes_head=True)\n",
        "a2 = plt.arrow(0,0,w[0],w[1],head_width=.3,width=.1,color=[.5,.5,.5],length_includes_head=True)\n",
        "a3 = plt.arrow(w[0],w[1],vMinusW[0],vMinusW[1],head_width=.3,width=.1,color=[.8,.8,.8],length_includes_head=True)\n",
        "\n",
        "\n",
        "# make the plot look a bit nicer\n",
        "plt.grid(linestyle='--',linewidth=.5)\n",
        "plt.axis('square')\n",
        "plt.axis([-6,6,-6,6])\n",
        "plt.legend([a1,a2,a3],['v','w','v-w'])\n",
        "plt.title('Vectors v, w, and v-w')\n",
        "plt.savefig('Figure_01_02b.png',dpi=300)\n",
        "plt.show()"
      ],
      "metadata": {
        "id": "PWZcYB3YN_m4"
      },
      "id": "PWZcYB3YN_m4",
      "execution_count": null,
      "outputs": []
    },
    {
      "cell_type": "markdown",
      "id": "65aab06a",
      "metadata": {
        "id": "65aab06a"
      },
      "source": [
        "\n",
        "### 1.2.3 스칼라–벡터 곱셈\n",
        "선형대수학에서 **스칼라(scalar)**는 벡터나 행렬에 포함된 숫자가 아닌 수 그 자체입니다. 스칼라는 일반적으로 $α$ 또는 $λ$와 같은 그리스어 소문자로 나타냅니다. 예를 들면 스칼라 벡터 곱셈을 $λw$로 나타낼 수 있습니다.\n",
        "\n",
        "- 스칼라-벡터 곱셈은 각 벡터 원소에 스칼라를 곱합니다.\n",
        "- `λw` : 길이가 `|λ|`배, 부호에 따라 방향 유지/반전\n",
        "\n",
        "<font color=\"orange\">[식 1-5] 스칼라-벡터 곱셈(또는 벡터-스칼라 곱셈)\n",
        "\n",
        "$$\n",
        "λ=4,\n",
        "w=\n",
        "\\begin{bmatrix}\n",
        "9 \\\\\n",
        "4 \\\\             \n",
        "1\n",
        "\\end{bmatrix},\n",
        "λw=\n",
        "\\begin{bmatrix}\n",
        "36 \\\\\n",
        "16 \\\\\n",
        "4\n",
        "\\end{bmatrix}\n",
        "$$\n",
        "\n",
        "- 영벡터(zero vector) : 모든 원소가 0인 벡터, 볼드체 **O**으로 표기\n",
        "                    영벡터를 사용해서 문제를 푸는 것은 자명한 해(trivial solution)\n",
        "\n",
        "스칼라-벡터 곱셈에서는 데이터 타입이 중요합니다. 아래 예시 코드를 살펴봅시다.\n"
      ]
    },
    {
      "cell_type": "code",
      "execution_count": null,
      "id": "f9d02c0d",
      "metadata": {
        "id": "f9d02c0d"
      },
      "outputs": [],
      "source": [
        "s = 2\n",
        "a = [3,4,5]  # 리스트\n",
        "b = np.array(a)  # np 배열\n",
        "\n",
        "print(a*s)  # 리스트 반복\n",
        "print(b*s)     # 스칼라-벡터 곱셈"
      ]
    },
    {
      "cell_type": "markdown",
      "source": [
        "이 코드는 스칼라(변수 s)와 벡터 리스트(변수 a)를 생성하고 a를 NumPy 배열(변수 b) 로 변환합니다. 파이썬에서 별표 연산은 변수 타입에 따라 다르게 동작하도록 재정의되어 있습니다. 리스트에 스칼라를 곱하면 리스트를 여러 번(이때는 두 번 반복하는데, 이 방식은 선형대수학의 스칼라-벡터 곱셈이 아닙니다. 하지만 벡터가 NumPy 배열이라면 별표 연산은 원소별로 곱셈을 합니다.\n",
        "\n",
        "(여기 간단한 문제가 있습니다. 만약 s = 2.0 으로 설정하면 어떻게 될까요?)\n",
        "\n",
        "이 두 가지 연산(리스트 반복과 스칼라-벡터 곱셈)은 실제 코딩에서 자주 사용되므로 조심해서 잘 구분해야 합니다."
      ],
      "metadata": {
        "id": "qXKYh7wyXZq9"
      },
      "id": "qXKYh7wyXZq9"
    },
    {
      "cell_type": "markdown",
      "source": [
        "### 1.2.4 스칼라-벡터 덧셈\n",
        "벡터에 스칼라를 더하는 것은 선형대수학에서 불가능합니다. 벡터와 스칼라는 별도의 수학적 객체이기 때문입니다. 하지만 파이썬과 같은 수치 처리 프로그램에서는 벡터에 스칼라를 더할 수 있으며 이 연산은 스칼라-벡터 곱셈과 유사합니다. 즉, 각 벡터 원소에 스칼라를 더합니다.\n",
        "\n",
        "- 프로그래밍 편의상 `s + v` 도 각 원소에 `s`를 더함(선형대수 정의와는 구분)"
      ],
      "metadata": {
        "id": "Wk9QPy-NUL9C"
      },
      "id": "Wk9QPy-NUL9C"
    },
    {
      "cell_type": "code",
      "source": [
        "s = 2\n",
        "v = np.array([3,6])\n",
        "print(s + v)"
      ],
      "metadata": {
        "id": "3cyj6UR_YRxG"
      },
      "id": "3cyj6UR_YRxG",
      "execution_count": null,
      "outputs": []
    },
    {
      "cell_type": "markdown",
      "source": [
        "### 스칼라-벡터 곱셈의 기하학적 해석\n",
        "스칼라는 왜 '스칼라'라고 부를까요? 기하학적 해석에 그 이유가 있습니다. 스칼라는 벡터의 방향을 바꾸지 않고 크기만 조정합니다. 스칼라-벡터 곱셈의 결과는 스칼라가 1보다 큰지, 0과 1 사이인지, 정확히 0인지, 음수인지에 따라 다릅니다.\n",
        "\n"
      ],
      "metadata": {
        "id": "-BjlEKrYejhB"
      },
      "id": "-BjlEKrYejhB"
    },
    {
      "cell_type": "markdown",
      "source": [
        "<font color=\"green\">[그림 1-3] </font> 동일한 벡터(검은색)에 다양한 스칼라 $σ$를 곱합니다."
      ],
      "metadata": {
        "id": "aF0Q6JxAuyJc"
      },
      "id": "aF0Q6JxAuyJc"
    },
    {
      "cell_type": "code",
      "source": [
        "# Effects of different scalars\n",
        "\n",
        "# a list of scalars:\n",
        "scalars = [ 1, 2, 1/3, 0, -2/3 ]\n",
        "\n",
        "baseVector = np.array([ .75,1 ])\n",
        "\n",
        "# create a figure\n",
        "fig,axs = plt.subplots(1,len(scalars),figsize=(12,3))\n",
        "i = 0 # axis counter\n",
        "\n",
        "for s in scalars:\n",
        "\n",
        "  # compute the scaled vector\n",
        "  v = s*baseVector\n",
        "\n",
        "  # plot it\n",
        "  axs[i].arrow(0,0,baseVector[0],baseVector[1],head_width=.3,width=.1,color='k',length_includes_head=True)\n",
        "  axs[i].arrow(.1,0,v[0],v[1],head_width=.3,width=.1,color=[.75,.75,.75],length_includes_head=True)\n",
        "  axs[i].grid(linestyle='--')\n",
        "  axs[i].axis('square')\n",
        "  axs[i].axis([-2.5,2.5,-2.5,2.5])\n",
        "  axs[i].set(xticks=np.arange(-2,3), yticks=np.arange(-2,3))\n",
        "  axs[i].set_title(f'$σ$ = {s:.2f}')\n",
        "  i+=1 # update axis counter\n",
        "\n",
        "plt.tight_layout()\n",
        "plt.savefig('Figure_01_03.png',dpi=300)\n",
        "plt.show()\n"
      ],
      "metadata": {
        "id": "dxDGVxHelFxv"
      },
      "id": "dxDGVxHelFxv",
      "execution_count": null,
      "outputs": []
    },
    {
      "cell_type": "markdown",
      "source": [
        "앞서 스칼라는 벡터의 방향을 변경하지 않는다고 했습니다. 하지만 그림에서 스칼라가 음수일 때 벡터 방향이 뒤집혔습니다(즉 180도 회전합니다). 모순 같지만, 벡터는 원점을 통과해서 양방향의 무한대로 가는 무한히 긴 선을 가리킨다는 해석도 있습니다(다음 장에서는 이것을 '1차원 부분공간'이라고 정의합니다). 그런 의미에서 '회전된' 벡터는 여전히 동일한 무한한 선을 가리키므로 음의 스칼라가 방향을 바꾼 것이 아닙니다. 이 해석은 행렬 공간과 고유벡터, 특이벡터에서 중요하며 다음 여러 장에서 관련된 내용을 소개합니다."
      ],
      "metadata": {
        "id": "hGHInLbDlwHH"
      },
      "id": "hGHInLbDlwHH"
    },
    {
      "cell_type": "markdown",
      "id": "b61b10a8",
      "metadata": {
        "id": "b61b10a8"
      },
      "source": [
        "\n",
        "### 벡터의 평균\n",
        "벡터 덧셈과 스칼라-벡터 곱셈을 이용해 **벡터의 평균(vector average)**을 구할 수 있습니다. 벡터의 평균을 구하는 것은 숫자의 평균을 구하는 것과 동일합니다. 모두 합하고 숫자의 개수로 나눕니다. 그래서 두 벡터의 평균을 구하려면 먼저 두 벡터를 더하고 스칼라 1/2 을 곱하면 됩니다. 일반적으로 N개 벡터의 평균을 구하려면 모두 더하고 스칼라 1/N을 곱합니다.\n"
      ]
    },
    {
      "cell_type": "code",
      "execution_count": null,
      "id": "091ea504",
      "metadata": {
        "id": "091ea504"
      },
      "outputs": [],
      "source": [
        "\n",
        "V = np.array([[2,1],[4,3],[6,5]])   # 3개의 2D 벡터(행마다 하나)\n",
        "print(\"평균 벡터:\", V.mean(axis=0))\n"
      ]
    },
    {
      "cell_type": "markdown",
      "source": [
        "### 1.2.5 전치\n",
        "\n",
        "앞에서 전치(transpose) 연산에 대해 살짝 배웠습니다. 전치 연산은 열벡터를 행벡터로 또는 반대로 변환합니다. 공식을 통해 전치 행렬을 일반화해서 정의해 보겠습니다(4장).\n",
        "\n",
        "행렬에는 행과 열이 있으므로 각 행렬 원소는 **(행, 열)** 인덱스를 가집니다. 전치 연산은 단순히 이러한 인덱스를 맞바꾸는 겁니다.\n",
        "\n",
        "<font color=\"orange\">[식 1-6] 전치 연산\n",
        "\n",
        "$$\n",
        "m_{i,j}^\\top = m_{j,i}\n",
        "$$\n",
        "\n",
        "벡터는 방향에 따라 하나의 행 또는 하나의 열입니다. 예를 들어 6차원 행벡터에서 인덱스는 1로 고정이고 $j$는 1에서 6까지 존재합니다. 6차원 열벡터는 인덱스가 1에서 6까지 존재하고 $j$는 1로 고정입니다. 따라서 $i$와 $j$ 인덱스를 맞바꾸면 행과 열이 뒤바뀝니다.\n",
        "\n",
        "----------------\n",
        "중요한 규칙 하나가 있습니다. 벡터를 두 번 전치하면 벡터는 원래 방향이 됩니다. 다시 말해\n",
        "$$\n",
        "\\left(v^\\top\\right)^\\top = v\n",
        "$$\n",
        "입니다. 이는 당연해 보이지만 데이터 과학과 머신러닝 등 여러 중요한 증명에서 핵심 근거가 됩니다. 예를 들어 데이터 행렬에 자신의 전치를 곱하면 대칭 공분산 행렬이 만들어집니다(이것이 주성분 분석이 데이터 공간의 직교 회전인 이유입니다."
      ],
      "metadata": {
        "id": "5JxOw0StgGYq"
      },
      "id": "5JxOw0StgGYq"
    },
    {
      "cell_type": "markdown",
      "source": [
        "### 1.2.6 파이썬에서 벡터 브로드캐스팅\n",
        "브로드캐스팅 연산은 현대 컴퓨터 기반 선형대수학에서만 존재합니다. 이것은 전통적인 선형대수학 교과서에는 없는 내용입니다.\n",
        "\n",
        "브로드캐스팅은 본질적으로 한 벡터를 다른 벡터의 각 원소로 연산을 여러 번 반복하는 것입니다. 다음 일련의 식을 살펴봅시다.\n",
        "\n",
        "$$\n",
        "\\begin{bmatrix}\n",
        "1 & 1\n",
        "\\end{bmatrix}+\n",
        "\\begin{bmatrix}\n",
        "10 & 20\n",
        "\\end{bmatrix}\n",
        "$$\n",
        "$$\n",
        "\\begin{bmatrix}\n",
        "2 & 2\n",
        "\\end{bmatrix}+\n",
        "\\begin{bmatrix}\n",
        "10 & 20\n",
        "\\end{bmatrix}\n",
        "$$\n",
        "$$\n",
        "\\begin{bmatrix}\n",
        "3 & 3\n",
        "\\end{bmatrix}+\n",
        "\\begin{bmatrix}\n",
        "10 & 20\n",
        "\\end{bmatrix}\n",
        "$$\n",
        "\n",
        "벡터의 패턴을 주의 깊게 보세요. 벡터 [1 2 3]의 전치와 [10  20]의 패턴을 모은 다음 덧셈을 브로드캐스팅하면 이 식들을 하나의 식으로 간결하게 구현할 수 있습니다. 다음은 파이썬으로 구현한 것입니다."
      ],
      "metadata": {
        "id": "IeLDqVP_kF_Y"
      },
      "id": "IeLDqVP_kF_Y"
    },
    {
      "cell_type": "code",
      "source": [
        "v = np.array([[1,2,3]]).T  # 열벡터\n",
        "w = np.array([[10,20]])  # 행벡터\n",
        "v+w  # 브로드캐스팅 덧셈"
      ],
      "metadata": {
        "id": "MCYQFuaplBHl"
      },
      "id": "MCYQFuaplBHl",
      "execution_count": null,
      "outputs": []
    },
    {
      "cell_type": "markdown",
      "source": [
        "여기서 다시 한 번 선형대수학 연산에서 방향의 중요성을 알 수 있습니다. 위 코드에서 v 를 행벡터로, w를 열벡터로 변경해서 실행해 보세요.\n",
        "\n",
        "브로드캐스팅으로 효율적이고 간결하게 계산할 수 있기 때문에 수치를 다루는 코딩에서 자주 사용됩니다. 이 책의 평균 클러스터링절(3장) 등에서 브로드캐스팅 예제들을 볼 수 있습니다."
      ],
      "metadata": {
        "id": "QtH_sRfImq5B"
      },
      "id": "QtH_sRfImq5B"
    },
    {
      "cell_type": "markdown",
      "id": "be77ef52",
      "metadata": {
        "id": "be77ef52"
      },
      "source": [
        "\n",
        "## **1.3 벡터 크기와 단위벡터**\n",
        "\n",
        "벡터의 **크기**(**기하학적 길이** 또는 **노름**(norm))는 벡터의 꼬리부터 머리까지의 거리이며 표준 유클리드(Euclidean) 거리 공식(벡터 원소들의 제곱합에 제곱근을 취함)으로 구합니다. 벡터 크기(노름)는 벡터 양 옆에 이중 수직 막대로 표시합니다( $|| v ||$).\n",
        "\n",
        "<font color=\"orange\">[식 1-7] 벡터 크기(노름)\n",
        "- 유클리드 노름: $\\|v\\| = \\sqrt{\\sum^n_{i=1} v_i^2}$  \n",
        "\n",
        "\n",
        "일부 응용에서는 제곱 크기($ || v ||^2$)를 사용하는데 이때는 오른편에 있는 제곱근 항을 제거합니다.\n",
        "\n",
        "파이썬 코드를 보기 전에 '칠판' 선형대수학과 '코드' 선형대수학 사이의 몇 가지 용어 불일치 예를 봅시다. 수학에서 벡터의 차원은 벡터의 원소 수이고 길이는 기하학적 거리입니다. 파이썬에서는 함수 len()(여기서 len은 **length**의 약자입니다)은 배열의 차원을 반환하고 np.norm()은 기하학적 길이(크기)를 반환합니다. 혼란을 피하기 위해 **길이** 대신 **크기**(또는 **기하학적 길이**, **노름**)라는 용어를 계속 사용하겠습니다."
      ]
    },
    {
      "cell_type": "code",
      "execution_count": null,
      "id": "87e4cc5f",
      "metadata": {
        "id": "87e4cc5f"
      },
      "outputs": [],
      "source": [
        "v = np.array([1,2,3,7,8,9])\n",
        "v_dim = len(v)  # 수학의 차원\n",
        "v_mag = np.linalg.norm(v)  # 수학적 크기, 길이, 또는 노름\n",
        "print(\"길이:\", v_dim, \"크기:\", v_mag)\n"
      ]
    },
    {
      "cell_type": "markdown",
      "source": [
        "여러 응용 분야에서는 기하학적인 길이가 1인 벡터를 사용하는데 이를 **단위벡터(unit vector)** 라고 합니다. 응용의 예로는 직교 행렬과 회전 행렬, 고유벡터, 특이벡터가 있습니다.\n",
        "\n",
        "단위벡터는 $|| v || = 1$로 정의합니다.\n",
        "\n",
        "당연히 단위벡터가 아닌 벡터가 더 많습니다('대부분의 벡터는 단위벡터가 아닙니다.'라고도 쓰고 싶었습니다. 그러나 비단위벡터로 이루어진 무한 집합이 단위벡터의 무한 집합보다 아무리 크다고 해도 무한 단위벡터의 수와 비단위벡터의 수는 모두 똑같이 무한합니다). 다행히도 모든 비단위벡터는 하나의 단위벡터와 연관되어 있습니다. 즉 비단위벡터와 같은 방향의 단위벡터를 만들 수 있습니다. 연관된 단위벡터를 만드는 건 간단합니다. 벡터 노름의 역수를 스칼라 곱셈하면 됩니다\n",
        "\n",
        "<font color=\"orange\">[식 1-8] 단위벡터 생성\n",
        "- 단위벡터: $\\hat v = \\dfrac{1}{\\|v\\|} v$ (단, $v \\neq 0$)\n",
        "\n",
        "\n",
        "\n"
      ],
      "metadata": {
        "id": "72DNdHHtpxEJ"
      },
      "id": "72DNdHHtpxEJ"
    },
    {
      "cell_type": "markdown",
      "source": [
        "<font color=\"green\">[그림 1-4] </font> 단위벡터는 비단위벡터를 가공해서 만듭니다. 두 벡터의 각도는 동일하지만 크기는 다릅니다.\n"
      ],
      "metadata": {
        "id": "-Y2iitOHzFto"
      },
      "id": "-Y2iitOHzFto"
    },
    {
      "cell_type": "code",
      "source": [
        "# create a vector\n",
        "v = np.array([4,3])\n",
        "v_uint = v / np.linalg.norm(v)\n",
        "\n",
        "# plot that vector (and a dot for the tail)\n",
        "plt.arrow(0,0,v[0],v[1],head_width=.1,width=.01)\n",
        "plt.plot(0,0,'ko',markerfacecolor='k',markersize=2)\n",
        "plt.arrow(1,-1,v_uint[0],v_uint[1],color='r',head_width=.1,width=.01)\n",
        "plt.plot(1,-1,'ro',markerfacecolor='r',markersize=2)\n",
        "\n",
        "# make the plot look nicer\n",
        "plt.axis([-1,6,-3,4])\n",
        "plt.show()"
      ],
      "metadata": {
        "id": "0-W9Cv-Jx-Os"
      },
      "id": "0-W9Cv-Jx-Os",
      "execution_count": null,
      "outputs": []
    },
    {
      "cell_type": "markdown",
      "source": [
        "사실 '모든 비단위벡터는 연관된 단위벡터를 가진다.'는 주장이 완벽하게 맞는 것은 아닙니다. 비단위 길이지만 연관된 단위벡터가 없는 벡터가 있습니다. 어떤 벡터인지 예상이 되나요?"
      ],
      "metadata": {
        "id": "CBcVzZKmzA3V"
      },
      "id": "CBcVzZKmzA3V"
    },
    {
      "cell_type": "markdown",
      "id": "9d96b9c8",
      "metadata": {
        "id": "9d96b9c8"
      },
      "source": [
        "\n",
        "## **1.4 벡터–내적**\n",
        "\n",
        "**내적(dot product)**(또는 **점곱, 스칼라곱**)은 선형대수학 전체에서 가장 중요한 연산입니다. 내적은 합성곱(convolution), 상관관계(correlation), 푸리에 변환(Fourier transform), 행렬 곱셈, 선형 특징 추출, 신호 필터링 등의 많은 연산과 알고리즘의 기본이 됩니다.\n",
        "\n",
        "두 벡터 사이의 내적을 표기하는 여러 가지 방법이 있습니다. 이 책에서는 행렬 곱셈을 학습하며 익숙해진 일반적인 표기법 $a^\\top a$를 사용할 것입니다. 다른 문맥에서는 $a\\cdot b$ 또는 $<a,b>$로도 나타냅니다.\n",
        "\n",
        "내적은 하나의 숫자로 두 벡터 사이의 관계를 나타냅니다. 먼저 내적을 계산하는 알고리즘을 살펴보고 해석하는 방법에 대해 논의하겠습니다.\n",
        "\n",
        "내적을 계산하려면 두 벡터에서 대응되는 원소끼리 곱한 다음 모든 결과를 더합니다. 다시 말해 원소별로 곱하고 합하는 것입니다. 아래 식에서 $a$와 $b$는 벡터이며 $a_i$는 $a$의 $i$ 번째 원소입니다.\n",
        "\n",
        "<font color=\"orange\">[식 1-9] 내적 공식\n",
        "\n",
        "- 계산식: $a\\cdot b = \\sum^n_{i=1} a_i b_i$  \n",
        "\n",
        "공식을 보면 내적이 동일한 차원의 두 벡터 사이에서만 성립함을 알 수 있습니다.\n",
        "\n",
        "<font color=\"orange\">[식 1-10] 내적 계산의 예\n",
        "\n",
        "$$\n",
        "\\begin{align}\n",
        "\\begin{bmatrix}\n",
        "1 & 2 & 3 & 4\n",
        "\\end{bmatrix}\n",
        "⋅\n",
        "\\begin{bmatrix}\n",
        "5 & 6 & 7 & 8\n",
        "\\end{bmatrix}\n",
        "&= 1×5+2×6+3×7+4×8 \\\\\n",
        "&=5+12+21+32 \\\\\n",
        "&=70\n",
        "\\end{align}\n",
        "$$\n",
        "\n",
        "\n",
        "파이썬에서 내적을 구현하는 여러 가지 방법이 있습니다. 그중에서 `np.dot()` 함수가 가장 간단합니다.\n",
        "\n",
        "\n",
        "\n"
      ]
    },
    {
      "cell_type": "code",
      "execution_count": null,
      "id": "560cc233",
      "metadata": {
        "id": "560cc233"
      },
      "outputs": [],
      "source": [
        "v = np.array([1,2,3,4])\n",
        "w = np.array([5,6,7,8])\n",
        "print(\"np.dot(v,w) =\", np.dot(v,w))\n",
        "print(\"v @ w      =\", v @ w)"
      ]
    },
    {
      "cell_type": "markdown",
      "source": [
        "❗np.dot()에 관한 참고사항\n",
        "\n",
        "`np.dot()` 함수는 실제로 벡터-내적을 구현하지 않았습니다. 여러 내적으로 이루어진 행렬 곱셈을 구현했습니다. 이는 행렬 곱셈의 규칙과 메커니즘에 대해 학습한 후에 더 확실히 이해가 될 것입니다 (4장). 당장 알고 싶다면 이전 코드에서 두 벡터 모두에 방향(행 대열)을 부여해 보세요. 첫 번째 입력이 행벡터고 두 번째 입력이 열벡터일 때만 내적이 출력되는 것을 알 수 있습니다."
      ],
      "metadata": {
        "id": "6Xw7s_t4tu4F"
      },
      "id": "6Xw7s_t4tu4F"
    },
    {
      "cell_type": "markdown",
      "id": "9d0fbb30",
      "metadata": {
        "id": "9d0fbb30"
      },
      "source": [
        "\n",
        "### 내적의 스칼라배\n",
        "스칼라 `s`에 대해 `np.dot(s*v, w) = s * np.dot(v, w)`.\n"
      ]
    },
    {
      "cell_type": "code",
      "execution_count": null,
      "id": "27b49e01",
      "metadata": {
        "id": "27b49e01"
      },
      "outputs": [],
      "source": [
        "v = np.array([1,2,3,4])\n",
        "w = np.array([5,6,7,8])\n",
        "s = 10\n",
        "print(\"np.dot(s*v, w)=\", np.dot(s*v, w))\n"
      ]
    },
    {
      "cell_type": "markdown",
      "source": [
        "내적은 두 벡터 사이의 **유사성(similarity)** 또는 **매핑(mapping)**의 척도로 해석할 수 있습니다. 20명의 키와 몸무게 데이터를 수집하고 그 데이터를 두 개의 벡터에 저장했다고 가정해 봅시다. 당연히 이 두 변수들은 서로 관련이 있다고 예상할 수 있습니다(키가 큰 사람이 더 무거운 경향을 보입니다). 따라서 두 벡터의 내적은 클 것입니다. 또한 내적의 크기는 데이터의 단위에 따라 달라집니다.\n",
        "\n",
        "예를 들어 그램과 센티미터로 측정된 데이터의 내적이 미터로 측정된 내적보다 더 큽니다. 그러나 이러한 단위의 차이는 정규화 계수로 제거할 수 있습니다.\n",
        "\n",
        "실제로 두 변수 사이의 정규화된 내적을 **피어슨 상관계수(Pearson correlation co-efficient)**라고 하며 이는 데이터 과학에서 가장 중요한 분석입니다."
      ],
      "metadata": {
        "id": "g6f-rISQvGXf"
      },
      "id": "g6f-rISQvGXf"
    },
    {
      "cell_type": "markdown",
      "source": [
        "### 1.4.1 내적의 분배 법칙\n",
        "수학의 분배 법칙은 a(b+c) = ab+ac입니다. 이를 벡터-내적에 적용하면 다음과 같 습니다.\n",
        "\n",
        "$$\n",
        "a^\\top(b+c)=a^\\top b+a^\\top c\n",
        "$$\n",
        "\n",
        "즉 벡터 덧셈의 내적은 벡터-내적의 덧셈과 같습니다.\n",
        "- 성질: 분배법칙 $a\\cdot(b+c)=a\\cdot b+a\\cdot c$, 스칼라배 $\\lambda(a\\cdot b)=(\\lambda a)\\cdot b=a\\cdot(\\lambda b)$  \n",
        "\n",
        "다음은 분배 법칙을 파이썬 코드로 구현한 것입니다."
      ],
      "metadata": {
        "id": "OlbriUSgvlfw"
      },
      "id": "OlbriUSgvlfw"
    },
    {
      "cell_type": "code",
      "source": [
        "a = np.array([0,1,2])\n",
        "b = np.array([3,5,8])\n",
        "c = np.array([13,21,34])\n",
        "\n",
        "# 내적 분배 법칙\n",
        "res1 = np.dot(a,b+c)\n",
        "res2 = np.dot(a,b) + np.dot(a,c)\n",
        "print(\"분배 법칙:\", res1 == res2)"
      ],
      "metadata": {
        "id": "S1lZrVJIwQ7c"
      },
      "id": "S1lZrVJIwQ7c",
      "execution_count": null,
      "outputs": []
    },
    {
      "cell_type": "markdown",
      "source": [
        "### 1.4.2. 내적의 기하학적 해석\n",
        "내적의 기하학적 정의입니다. 두 벡터의 크기(노름)를 곱하고 두 벡터 사이의 각 도에서 코사인값만큼 크기를 늘리는 것입니다.\n",
        "\n",
        "<font color=\"orange\">[식 1-11] 벡터-내적의 기하학적 정의\n",
        "\n",
        "$$\n",
        "\\alpha = \\cos(\\theta_{v,w}) \\, \\|v\\| \\, \\|w\\|\n",
        "$$\n",
        "\n",
        "- 기하 교과서: $a\\cdot b = \\|a\\|\\,\\|b\\|\\cos\\theta$\n",
        "\n",
        "<font color=\"orange\">[식 1-9]</font>와 <font color=\"orange\">[식 1-11]</font>은 수학적으로 동일하지만 다르게 표현된 형태입니다. 이 둘이 동등한지 증명하는 것은 수학적 분석에서는 흥미로운 실습이지만 코사인 법칙 등 다른 원리를 먼저 증명해야 해서 분량이 약 한 페이지 정도 필요합니다. 그래서 이 증명은 이 책과 특별히 관련이 없으므로 생략하겠습니다.\n",
        "\n",
        "벡터 크기는 엄격하게 양수(0 벡터는 $||0||=0$으로 제외)지만 각의 코사인값은 -1과 +1 사이입니다. 이는 내적의 부호가 전적으로 두 벡터 사이의 기하학적 관계로 결정된다는 것을 뜻합니다. <font color=\"green\">[그림 1-5]</font>는 두 벡터 사이의 각에 따른 내적 부호 다섯 가지 사례를 보여 줍니다(2차원으로 시각화했지만 법칙은 더 높은 차원에서도 성립합니다).\n",
        "\n"
      ],
      "metadata": {
        "id": "mSgx_RhrxBbe"
      },
      "id": "mSgx_RhrxBbe"
    },
    {
      "cell_type": "markdown",
      "source": [
        "<font color=\"green\">[그림 1-5] </font> 두 벡터의 내적의 부호는 벡터 사이의 기하학적 관계를 나타냅니다."
      ],
      "metadata": {
        "id": "RbnMex7N43OK"
      },
      "id": "RbnMex7N43OK"
    },
    {
      "cell_type": "markdown",
      "source": [
        "- 직교벡터의 내적은 0이다.\n",
        "  \n",
        "  (1) 두 벡터가 직교한다. $\\iff $ (2) 두 벡터는 내적이 0이다. $\\iff $ (3) 두 벡터 사이의 각은 $90^\\circ$이다."
      ],
      "metadata": {
        "id": "Cp4FiIQr2jQP"
      },
      "id": "Cp4FiIQr2jQP"
    },
    {
      "cell_type": "markdown",
      "id": "21c3a515",
      "metadata": {
        "id": "21c3a515"
      },
      "source": [
        "\n",
        "## **1.5 그 외 벡터 곱셈**\n",
        "\n",
        "### 1.5.1 아다마르곱\n",
        "원소별로 곱하는 것을 뜻하는 멋진 용어입니다. **아다마르곱(Hardamard product)**을 구현하려면 두 벡터의 대응되는 각 원소를 곱하면 됩니다. 곱의 결과는 두 벡터와 같은 차원의 벡터입니다.\n",
        "\n",
        "\n",
        "$$\n",
        "\\begin{bmatrix}\n",
        "5 \\\\\n",
        "4 \\\\             \n",
        "8 \\\\\n",
        "2\n",
        "\\end{bmatrix} ⊙\n",
        "\\begin{bmatrix}\n",
        "1 \\\\\n",
        "0 \\\\\n",
        ".5 \\\\\n",
        "-1\n",
        "\\end{bmatrix}\n",
        "=\n",
        "\\begin{bmatrix}\n",
        "5 \\\\\n",
        "0 \\\\\n",
        "4 \\\\\n",
        "-2\n",
        "\\end{bmatrix}\n",
        "$$"
      ]
    },
    {
      "cell_type": "code",
      "execution_count": null,
      "id": "156f3acb",
      "metadata": {
        "id": "156f3acb"
      },
      "outputs": [],
      "source": [
        "\n",
        "a = np.array([5,4,8,2])\n",
        "b = np.array([1,0,.5])\n",
        "print(\"Hardamard:\", a * b)\n"
      ]
    },
    {
      "cell_type": "markdown",
      "source": [
        "당황하지 말고 버그를 찾아 수정해 보세요."
      ],
      "metadata": {
        "id": "yhug3xRszyr-"
      },
      "id": "yhug3xRszyr-"
    },
    {
      "cell_type": "markdown",
      "source": [
        "-----------------------\n",
        "아다마르곱은 여러 스칼라를 곱할 때 편리합니다. 예를 들어 다양한 가게에서 판매되는 소형 장치의 수와 각 가게의 장치당 가격 데이터가 있다고 가정합시다. 각 변수를 벡터로 나타내고 아다마르곱을 통해 가게별로 장치 매출을 계산할 수 있습니다(이것은 모든 가게의 전체 매출과 다릅니다. 전체 매출은 내적으로 계산할 수 있습니다)."
      ],
      "metadata": {
        "id": "D1mYVN9ez8tX"
      },
      "id": "D1mYVN9ez8tX"
    },
    {
      "cell_type": "markdown",
      "id": "f6b0b1e6",
      "metadata": {
        "id": "f6b0b1e6"
      },
      "source": [
        "\n",
        "### 1.5.2 외적(outer product)\n",
        "외적은 열벡터와 행벡터를 이용해 행렬을 만듭니다. 외적 행렬의 각 행은 행벡터 스칼라에 대응되는 열벡터 원소를 곱한 것입니다. 그리고 외적 행렬의 각 열은 열벡터 스칼라에 대응되는 행벡터 원소를 곱한 것입니다. 5장에서는 이것을 '계수(rank)-1 행렬'이라고 부릅니다. 일단 용어는 무시하고 다음 예제에서 나타낸 패턴에 초점을 맞추세요.\n",
        "\n",
        "$$\\begin{bmatrix}\n",
        "a \\\\\n",
        "b \\\\             \n",
        "c\n",
        "\\end{bmatrix}\n",
        "\\begin{bmatrix}\n",
        "d & e\n",
        "\\end{bmatrix}\n",
        "=\n",
        "\\begin{bmatrix}\n",
        "ad & ae \\\\\n",
        "bd & be \\\\\n",
        "cd & ce\n",
        "\\end{bmatrix}\n",
        "$$\n",
        "\n",
        "외적은 내적과 많은 차이가 있습니다. 외적은 스칼라 대신 행렬을 생성합니다. 외적의 두 벡터는 차원이 달라도 되지만 내적의 두 벡터는 차원이 같아야 합니다.\n",
        "\n",
        "외적은 $vw^\\top$로 나타냅니다(벡터가 열 방향이라고 가정한 것을 떠올려 보면 외적은 열에 행을 곱하는 것입니다). 내적 표기법($v^\\top w$)과 외적($vw^\\top$) 표기법 사이의 중요한 차이점을 이해해야 합니다. 지금은 이상하고 혼란스러울 수 있지만 4장에서 행렬 곱셈을 배우고 나면 완벽하게 이해할 수 있습니다.\n",
        "\n",
        "외적은 브로드캐스팅과 비슷하지만 다릅니다. **브로드캐스팅**은 덧셈, 곱셈, 나눗셈과 같은 산술 연산을 벡터로 확장한 일반적인 코딩 연산입니다. 하지만 **외적**은 두 벡터를 곱하는 특수한 수학적 기법입니다.\n",
        "\n",
        "NumPy를 이용해 각각 열과 행 방향인 두 벡터를 `np.outer()` 또는 `np.dot()` 함수에 입력해서 외적을 계산할 수 있습니다.\n"
      ]
    },
    {
      "cell_type": "code",
      "execution_count": null,
      "id": "c5d01a25",
      "metadata": {
        "id": "c5d01a25"
      },
      "outputs": [],
      "source": [
        "\n",
        "u = np.array([1,2,3])\n",
        "v = np.array([4,5])\n",
        "print(\"np.outer(u,v)=\\n\", np.outer(u,v))\n"
      ]
    },
    {
      "cell_type": "markdown",
      "source": [
        "### 1.5.3 교차곱과 삼중곱\n",
        "교차곱 또는 삼중곱같이 벡터를 곱하는 또 다른 방법이 있습니다. 이 방법은 기하학과 물리학에서 사용되지만 기술 관련 응용 분야에서 자주 등장하지 않아서 이 책에서 다루지 않습니다. 여러분에게 단지 이 이름이 낯설지 않도록 여기에서는 언급만 하고 넘어가겠습니다."
      ],
      "metadata": {
        "id": "LJNvFNB52cyv"
      },
      "id": "LJNvFNB52cyv"
    },
    {
      "cell_type": "markdown",
      "id": "6cc8c3e4",
      "metadata": {
        "id": "6cc8c3e4"
      },
      "source": [
        "\n",
        "## **1.6 직교벡터 분해**\n",
        "\n",
        "벡터 또는 행렬을 '분해'하면 여러 간단한 조각으로 나뉘어집니다. 분해를 통해 행렬에 '숨겨진' 정보를 밝혀내거나 행렬을 사용하기 쉬운 형태로 만들기도 하고 또는 데이터를 압축하기도 합니다. 전통과 응용 선형대수학의 거의 대부분이 행렬 분해와 연관되어 있다고 해도 과언이 아닐 정도로 행렬 분해는 대단히 중요합니다.\n",
        "\n",
        "두 가지 간단한 스칼라 관련 예를 이용해 분해 개념을 소개해 보겠습니다.\n",
        "\n",
        "- 숫자 42.01을 42와 0.01 두 조각으로 나눌 수 있습니다. 아마도 0.01이 오차라서 제거하거나 아니면 데이터를 압축하려는 목적일 수 있습니다(정수 42는 부동 소수점 42.01보다 메모리 사용량이 적습니다). 어떤 의도일지라도 분해는 하나의 수학적 대상을 더 단순한 대상의 합(42=42+0.01)으로 표현하는 것입니다.\n",
        "- 숫자 42를 소수 2, 3, 7의 곱으로 분해할 수 있습니다. 이러한 분해를 **소인수 분해(prime factorization)**라고 하며 수치 처리 및 암호학에서 많이 응용됩니다. 이 예는 합이 아닌 곱에 관한 것이지만 하나의 수학적 대상을 더 작고 간단한 조각으로 분해한다는 점은 같습니다.\n",
        "\n",
        "이 절에서는 간단하면서 중요한 분해를 살펴봅니다. 하나의 벡터를 두 개의 벡터로 분해 하는데, 하나는 기준벡터와 직교하고 다른 하나는 기준벡터와 평행합니다. 직교벡터 분해는 통계에서 **그람-슈미트 과정(Gram-Schmidt Process)**과 **QR 분해**에 직접적인 연관이 있습니다. 이는 통계에서 역문제를 해결할 때 자주 사용됩니다.\n",
        "\n",
        "먼저 그림으로 분해의 목적을 시각화해 봅시다. [그림 1-6]에서 이것을 보여 줍니다. 표준 위치에 두 개의 벡터 $a$와 $b$가 있습니다. 우리는 $a$에서 $b$의 머리와 최대한 가까운 점을 찾아야 합니다. 이것을 최적화 문제로도 나타낼 수 있습니다. 즉 투영 거리가 최소가 되도록 벡터 $b$를 벡터 $a$에 투영합니다. 그 점은 $a$의 크기를 줄인 즉 $\\beta a$가 됩니다. 그러면 이제 스칼라 $\\beta$를 찾으면 됩니다(직교벡터 분해와 곧 명확히 연결됩니다).\n",
        "\n",
        "\n",
        "\n"
      ]
    },
    {
      "cell_type": "markdown",
      "source": [
        "<font color=\"green\">[그림 1-6] </font> $b$의 머리와 가장 가까운 벡터 $a$ 위의 점을 찾으려면 투영 벡터 $b-βa$의 길이가 최소가 되는 $\\beta$를 구하는 공식이 필요합니다."
      ],
      "metadata": {
        "id": "Xc9XRJUJ6USY"
      },
      "id": "Xc9XRJUJ6USY"
    },
    {
      "cell_type": "markdown",
      "source": [
        "중요한 것은 벡터 뺄셈으로 $b$에서 $\\beta a$ 까지의 선을 정의할 수 있다는 것입니다. 이 선에 문자(벡터$c$)를 부여할 수도 있지만 먼저 답을 찾기 위해 뺄셈으로 표현하겠습니다.\n",
        "\n",
        "이 문제를 해결하는 데 필요한 핵심 통찰은 $b$의 머리와 $a$가 직각으로 만나도록 그리면 $b$와 가장 가까운 $a$ 위의 점을 찾을 수 있다는 것입니다. 원점, $b$의 머리, $\\beta a$로 이루어진 삼각형을 직관적으로 상상해 봅시다. $b$에서 $\\beta a$ 까지의 선의 길이는 각 $\\beta a$가 90°보다 작거나 90°보다 클수록 길어집니다.\n",
        "\n",
        "종합해 보면 $b-\\beta a$가 $\\beta a$와 직교한다는 것을 추론할 수 있는데, 즉 이 벡터들은 수직입니다. 그러면 둘 사이의 내적이 0이 되어야 합니다. 이 내용을 식으로 변환해봅시다.\n",
        "\n",
        "$$a^\\top (b-\\beta a) = 0$$\n",
        "\n",
        "이제 $\\beta$를 구하기 위해 약간의 대수학을 적용해 봅시다(내적 분배 법칙의 응용을 참고하세요).\n",
        "\n",
        "<font color=\"orange\">[식 1-12] 직교 투영 문제를 풉니다.\n",
        "\n",
        "$$\n",
        "\\begin{align}a^\\top b-\\beta a^\\top a &=0 \\\\\n",
        "\\beta a^\\top a &=a^\\top b \\\\\n",
        "\\beta &= \\dfrac{a^\\top b}{a^\\top a}\n",
        "\\end{align}$$\n",
        "\n",
        "점을 최소 거리로 선에 투영하는 공식을 발견했습니다. 이를 **직교 투영법(orthogonal projection)**이라고 하 며 이는 선형 모델을 푸는 데 잘 알려진 최소제곱식, 통계학, 머신러닝 등의 많은 응용 분야에서 기초가 됩니다(8장, 9장. 10장에서 직교 투영법을 다룹니다).\n"
      ],
      "metadata": {
        "id": "tjhBIrBQ6PVe"
      },
      "id": "tjhBIrBQ6PVe"
    },
    {
      "cell_type": "markdown",
      "source": [
        "항상 그렇듯 설정과 목적으로 시작합니다. '목표벡터'와 '기준벡터'라는 두 개의 벡터를 설정해 봅시다. 목적은 목표벡터를 두 개의 다른 벡터로 분해하는 것입니다. (1) 그 두 벡터의 합은 목표벡터가 되고, (2) 하나의 벡터는 기준벡터와 직교하지만 다른 벡터는 기준벡터와 평행합니다. 이를 <font color=\"green\">[그림 1-7] </font>에서 표현했습니다.\n",
        "\n",
        "수학 계산을 시작하기 전에 용어를 분명히 합시다. 목표벡터를 $t$, 기준벡터를 $r$이라고 부릅니다. 그리고 목표벡터로부터 만들어진 두 벡터는 수직 성분  $t_{\\perp r}$과 평행 성분 $t_{\\parallel r}$ 로 각각 표시합니다."
      ],
      "metadata": {
        "id": "FVQNKP8C8TCv"
      },
      "id": "FVQNKP8C8TCv"
    },
    {
      "cell_type": "markdown",
      "source": [
        "<font color=\"green\">[그림 1-7]</font> 직교벡터 분해 그림: 벡터 $t$를 벡터 $r$과 직교하는 벡터와 평행한 벡터로 분해합니다."
      ],
      "metadata": {
        "id": "SGDR4CyY8V8h"
      },
      "id": "SGDR4CyY8V8h"
    },
    {
      "cell_type": "code",
      "execution_count": null,
      "id": "ae07f8c8",
      "metadata": {
        "id": "ae07f8c8"
      },
      "outputs": [],
      "source": [
        "\n",
        "def draw_vec(ax, v, label=None, style=dict()):\n",
        "    ax.quiver(0,0, v[0], v[1], angles='xy', scale_units='xy', scale=1, label=label, **style)\n",
        "\n",
        "a = np.array([3.,1.]); b = np.array([2.,4.])\n",
        "beta, t_par, t_perp = proj_of_b_on_a(b,a)\n",
        "\n",
        "fig = plt.figure(figsize=(5,5))\n",
        "ax = plt.gca()\n",
        "ax.axhline(0); ax.axvline(0)\n",
        "ax.set_aspect(\"equal\", adjustable=\"box\"); ax.set_xlim(-1,6); ax.set_ylim(-1,6)\n",
        "draw_vec(ax, a, \"a\")\n",
        "draw_vec(ax, b, \"b\")\n",
        "draw_vec(ax, t_par, \"t_parallel\")\n",
        "draw_vec(ax, t_perp, \"t_perp\")\n",
        "ax.legend(); ax.set_title(\"직교 투영과 분해\")\n",
        "plt.show()\n"
      ]
    },
    {
      "cell_type": "markdown",
      "source": [
        "\n",
        "\n",
        "먼저 평행 성분을 정의합니다. $r$과 평행한 벡터는 무엇인가요? $r$의 크기를 조정한 벡터 는 분명히 $r$과 평행합니다. 따라서 우리는 <font color=\"orange\">[식 1-12] </font>에서 구한 직교 투영 공식을 적용 하기만 하면 $t_{\\parallel r}$을 찾을 수 있습니다.\n",
        "\n",
        "<font color=\"orange\">[식 1-13] $r$에 대해 $t$의 평행 성분 계산\n",
        "\n",
        "$$t_{\\parallel r} = r\\dfrac{t^\\top r}{r^\\top r}$$\n",
        "\n",
        "이것이 평행 성분입니다. 수직 성분은 어떻게 찾을 수 있을까요? 두 벡터 성분의 합이 목표벡터가 된다는 것을 이미 알고 있기 때문에 이 방법이 더 간단합니다.\n",
        "\n",
        "$$\n",
        "\\begin{align} t &=t_{\\perp r} + t_{\\parallel r} \\\\\n",
        " t_{\\perp r} &=t-t_{\\parallel r} \\end{align} $$\n",
        "\n",
        "다시 말해 목표벡터에서 평행 성분을 빼고 남은 것이 수직 성분입니다.\n",
        "\n",
        "하지만 수직 성분이 정말로 기준벡터와 직교할까요? 네, 그렇습니다! 이를 증명하려면 수직 성분과 기준벡터 사이의 **내적이 0**인지 계산해보면 됩니다.\n",
        "\n",
        "$$ \\begin{align} (t_{\\perp r})^\\top r &=0 \\\\\n",
        " (t-r\\dfrac{t^\\top r}{r^\\top r}) r &=0 \\end{align}  $$\n",
        "\n",
        "직교벡터 분해에 관한 재미있는 시간이 되었길 바랍니다. 다시 한 번 배운 분해 원리의 중요성을 강조하겠습니다. 하나의 수학적 대상을 다른 수학적 대상들로 분해합니다. 분해의 세부적인 내용은 제약 조건(여기서는 기준벡터와 직교 그리고 평행)에 따라 달라집니다. 다른 제약 조건이라면(즉 분석의 목표가 다르다면 동일한 벡터라도 다른 방식으로 분해할 수 있습니다."
      ],
      "metadata": {
        "id": "ClrP6j365IR5"
      },
      "id": "ClrP6j365IR5"
    },
    {
      "cell_type": "code",
      "execution_count": null,
      "id": "d00b5fe3",
      "metadata": {
        "id": "d00b5fe3"
      },
      "outputs": [],
      "source": [
        "\n",
        "def proj_of_b_on_a(b, a):\n",
        "    a = np.asarray(a, float); b = np.asarray(b, float)\n",
        "    denom = a @ a\n",
        "    if denom == 0: raise ValueError(\"기준벡터 a가 영벡터\")\n",
        "    beta = (a @ b) / denom\n",
        "    t_parallel = beta * a\n",
        "    t_perp = b - t_parallel\n",
        "    return beta, t_parallel, t_perp\n",
        "\n",
        "a = np.array([3.,1.])\n",
        "b = np.array([2.,4.])\n",
        "beta, t_par, t_perp = proj_of_b_on_a(b,a)\n",
        "print(\"beta:\", beta, \"t_parallel:\", t_par, \"t_perp:\", t_perp, \"직교성:\", np.isclose(t_perp @ a, 0.0))\n"
      ]
    },
    {
      "cell_type": "markdown",
      "id": "27e23087",
      "metadata": {
        "id": "27e23087"
      },
      "source": [
        "\n",
        "---\n",
        "# 연습 문제 (자동 채점 포함)\n",
        "\n",
        "각 항목의 TODO를 채우고 `assert` 검사를 통과해 보세요.\n"
      ]
    },
    {
      "cell_type": "markdown",
      "id": "feffd25a",
      "metadata": {
        "id": "feffd25a"
      },
      "source": [
        "\n",
        "### 연습 1 — 단위벡터 함수\n",
        "입력 벡터와 **같은 방향**의 단위벡터를 반환하는 함수를 만드세요. (영벡터 예외 처리)\n"
      ]
    },
    {
      "cell_type": "code",
      "execution_count": null,
      "id": "127a1cab",
      "metadata": {
        "id": "127a1cab"
      },
      "outputs": [],
      "source": [
        "\n",
        "def unit_vector(v):\n",
        "    v = np.asarray(v, float)\n",
        "    n = np.linalg.norm(v)\n",
        "    if n == 0: raise ValueError(\"영벡터\")\n",
        "    return v / n\n",
        "\n",
        "x = np.array([3.,4.])\n",
        "u = unit_vector(x)\n",
        "assert np.allclose(np.linalg.norm(u), 1.0) and np.isclose(np.dot(u, x)>=0, True)\n",
        "print(\"✅ 연습 1 통과\")\n"
      ]
    },
    {
      "cell_type": "markdown",
      "id": "30fd66c3",
      "metadata": {
        "id": "30fd66c3"
      },
      "source": [
        "\n",
        "### 연습 2 — 전치 연산을 수동 구현\n",
        "`np.transpose`나 `.T` 없이, (n,1)↔(1,n) 전치를 직접 구현하세요.\n"
      ]
    },
    {
      "cell_type": "code",
      "execution_count": null,
      "id": "6302cbba",
      "metadata": {
        "id": "6302cbba"
      },
      "outputs": [],
      "source": [
        "\n",
        "def transpose_2d_vector(X):\n",
        "    X = np.asarray(X)\n",
        "    if X.ndim != 2: raise ValueError(\"2D 배열만 허용\")\n",
        "    return np.reshape(X, X.shape[::-1])\n",
        "\n",
        "col = np.array([[1],[2],[3]])\n",
        "row = transpose_2d_vector(col)\n",
        "assert row.shape == (1,3) and np.all(row == [[1,2,3]])\n",
        "print(\"✅ 연습 2 통과\")\n"
      ]
    },
    {
      "cell_type": "markdown",
      "id": "48abe969",
      "metadata": {
        "id": "48abe969"
      },
      "source": [
        "\n",
        "### 연습 3 — 내적의 분배 법칙 검증\n",
        "`a·(b+c) = a·b + a·c` 를 코드로 검증하세요.\n"
      ]
    },
    {
      "cell_type": "code",
      "execution_count": null,
      "id": "64039f0a",
      "metadata": {
        "id": "64039f0a"
      },
      "outputs": [],
      "source": [
        "\n",
        "a = np.array([0,1,2,1]); b = np.array([3,5,8,13]); c = np.array([13,21,34,1])\n",
        "lhs = a @ (b + c)\n",
        "rhs = a @ b + a @ c\n",
        "assert np.isclose(lhs, rhs)\n",
        "print(\"✅ 연습 3 통과:\", lhs, rhs)\n"
      ]
    },
    {
      "cell_type": "markdown",
      "id": "bc620491",
      "metadata": {
        "id": "bc620491"
      },
      "source": [
        "\n",
        "### 연습 4 — 직교 투영 & 분해\n",
        "`b`를 `a`에 대해 평행/수직 성분으로 분해하는 함수를 완성하세요.\n"
      ]
    },
    {
      "cell_type": "code",
      "execution_count": null,
      "id": "0744794b",
      "metadata": {
        "id": "0744794b"
      },
      "outputs": [],
      "source": [
        "\n",
        "def decompose(b, a):\n",
        "    a = np.asarray(a, float); b = np.asarray(b, float)\n",
        "    beta = (a @ b) / (a @ a)\n",
        "    t_par = beta * a\n",
        "    t_perp = b - t_par\n",
        "    return t_par, t_perp\n",
        "\n",
        "a = np.array([3.,1.]); b = np.array([2.,4.])\n",
        "tpar, tperp = decompose(b,a)\n",
        "assert np.allclose(tpar + tperp, b) and np.isclose(tperp @ a, 0.0)\n",
        "print(\"✅ 연습 4 통과\")\n"
      ]
    },
    {
      "cell_type": "markdown",
      "id": "fe65b754",
      "metadata": {
        "id": "fe65b754"
      },
      "source": [
        "\n",
        "### 연습 5 — 온전성 검사(Sanity Check)\n",
        "실수로 투영식의 분모가 $r^T r$이 아니라 $r r$가 되었다고 가정하면 어떤 오류가 생길까요?  \n",
        "아래 코드는 버그(의도적)를 시뮬레이션하고, 올바른 결과와 비교합니다.\n"
      ]
    },
    {
      "cell_type": "code",
      "execution_count": null,
      "id": "5f3f1fe5",
      "metadata": {
        "id": "5f3f1fe5"
      },
      "outputs": [],
      "source": [
        "\n",
        "def buggy_beta(a, r):\n",
        "    # 버그: (r.T @ r) 대신 (r @ r)라 가정하고 1D에서만 우연히 동작하는 경우를 시뮬레이션\n",
        "    return (a @ r) / (r @ r)\n",
        "\n",
        "def correct_beta(a, r):\n",
        "    return (a @ r) / (r @ r)  # 1D에선 같아 보이지만 2D이상에선 모양 관리가 중요\n",
        "\n",
        "a = np.array([3.,1.]); r = np.array([2.,4.])\n",
        "print(\"buggy:\", buggy_beta(a,r), \"correct:\", correct_beta(a,r))\n",
        "print(\"둘 값은 수치상 같지만, 2D/행열 모양을 엄격히 다루면 .T가 필수임을 상기하세요.\")\n"
      ]
    }
  ],
  "metadata": {
    "colab": {
      "provenance": [],
      "include_colab_link": true
    },
    "language_info": {
      "name": "python"
    },
    "kernelspec": {
      "name": "python3",
      "display_name": "Python 3"
    }
  },
  "nbformat": 4,
  "nbformat_minor": 5
}